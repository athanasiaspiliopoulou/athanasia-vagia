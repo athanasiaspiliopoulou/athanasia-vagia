{
 "cells": [
  {
   "cell_type": "code",
   "execution_count": 4,
   "id": "974744ad-4c06-40fa-a52d-5fa6b60ac384",
   "metadata": {},
   "outputs": [],
   "source": [
    "#imports\n",
    "import pandas as pd\n",
    "\n",
    "import requests\n",
    "from bs4 import BeautifulSoup\n",
    "from selenium import webdriver\n",
    "from selenium.webdriver.chrome.options import Options\n",
    "from selenium.webdriver.common.by import By\n",
    "from selenium.webdriver.support.ui import Select\n",
    "\n",
    "import time\n",
    "\n",
    "#set ups\n",
    "pd.set_option('display.max_rows', None)\n",
    "pd.set_option('display.max_columns', None)"
   ]
  },
  {
   "cell_type": "code",
   "execution_count": 6,
   "id": "a6a6a359-584a-447a-a319-3a024601f17b",
   "metadata": {},
   "outputs": [],
   "source": [
    "url = 'https://cpj.org/data/missing/?status=Missing&gender%5B%5D=Female&start_year=2012&end_year=2022&group_by=location'\n",
    "driver = webdriver.Chrome()\n",
    "driver.get(url)"
   ]
  },
  {
   "cell_type": "code",
   "execution_count": 7,
   "id": "4c250278-3d9d-4d33-b5b3-dd1a41b8a26d",
   "metadata": {},
   "outputs": [
    {
     "name": "stdout",
     "output_type": "stream",
     "text": [
      "Maisloon al-Jawady Al-Mosuliya TV June 29, 2014 Iraq\n",
      "María Esther Aguilar Cansimbe El Diario de Zamora,Cambio de Michoacán November 11, 2009 Mexico\n",
      "Yelena Petrova Lita-M August 11, 1996 Russia\n"
     ]
    }
   ],
   "source": [
    "numbers = list(range(1,4))\n",
    "\n",
    "for n in numbers:\n",
    "    data = {}\n",
    "    name = driver.find_element(By.XPATH, f'/html/body/div[1]/div/div/div[2]/div/div[1]/div/table/tbody/tr[{n}]/td[1]/a').text\n",
    "    organization = driver.find_element(By.XPATH, f'/html/body/div[1]/div/div/div[2]/div/div[1]/div/table/tbody/tr[{n}]/td[2]').text\n",
    "    date = driver.find_element(By.XPATH, f'/html/body/div[1]/div/div/div[2]/div/div[1]/div/table/tbody/tr[{n}]/td[3]').text\n",
    "    location = driver.find_element(By.XPATH, f'/html/body/div[1]/div/div/div[2]/div/div[1]/div/table/tbody/tr[{n}]/td[4]').text\n",
    "    \n",
    "    data['name'] = name\n",
    "    data['organization'] = organization\n",
    "    data['date'] = date\n",
    "    data['location'] = location\n",
    "    \n",
    "    print(name, organization, date, location)\n",
    "    \n",
    "    mydata.append(data)"
   ]
  },
  {
   "cell_type": "code",
   "execution_count": 8,
   "id": "d44e2b2c-3438-44ce-aee3-5c5cc39ffc10",
   "metadata": {},
   "outputs": [
    {
     "data": {
      "text/plain": [
       "(3, 4)"
      ]
     },
     "execution_count": 8,
     "metadata": {},
     "output_type": "execute_result"
    }
   ],
   "source": [
    "df = pd.DataFrame(mydata)\n",
    "df.shape"
   ]
  },
  {
   "cell_type": "code",
   "execution_count": 9,
   "id": "c872d927-5a2c-4145-a2a3-04fbd0025bce",
   "metadata": {},
   "outputs": [
    {
     "data": {
      "text/html": [
       "<div>\n",
       "<style scoped>\n",
       "    .dataframe tbody tr th:only-of-type {\n",
       "        vertical-align: middle;\n",
       "    }\n",
       "\n",
       "    .dataframe tbody tr th {\n",
       "        vertical-align: top;\n",
       "    }\n",
       "\n",
       "    .dataframe thead th {\n",
       "        text-align: right;\n",
       "    }\n",
       "</style>\n",
       "<table border=\"1\" class=\"dataframe\">\n",
       "  <thead>\n",
       "    <tr style=\"text-align: right;\">\n",
       "      <th></th>\n",
       "      <th>name</th>\n",
       "      <th>organization</th>\n",
       "      <th>date</th>\n",
       "      <th>location</th>\n",
       "    </tr>\n",
       "  </thead>\n",
       "  <tbody>\n",
       "    <tr>\n",
       "      <th>0</th>\n",
       "      <td>Maisloon al-Jawady</td>\n",
       "      <td>Al-Mosuliya TV</td>\n",
       "      <td>June 29, 2014</td>\n",
       "      <td>Iraq</td>\n",
       "    </tr>\n",
       "    <tr>\n",
       "      <th>1</th>\n",
       "      <td>María Esther Aguilar Cansimbe</td>\n",
       "      <td>El Diario de Zamora,Cambio de Michoacán</td>\n",
       "      <td>November 11, 2009</td>\n",
       "      <td>Mexico</td>\n",
       "    </tr>\n",
       "    <tr>\n",
       "      <th>2</th>\n",
       "      <td>Yelena Petrova</td>\n",
       "      <td>Lita-M</td>\n",
       "      <td>August 11, 1996</td>\n",
       "      <td>Russia</td>\n",
       "    </tr>\n",
       "  </tbody>\n",
       "</table>\n",
       "</div>"
      ],
      "text/plain": [
       "                            name                             organization  \\\n",
       "0             Maisloon al-Jawady                           Al-Mosuliya TV   \n",
       "1  María Esther Aguilar Cansimbe  El Diario de Zamora,Cambio de Michoacán   \n",
       "2                 Yelena Petrova                                   Lita-M   \n",
       "\n",
       "                date location  \n",
       "0      June 29, 2014     Iraq  \n",
       "1  November 11, 2009   Mexico  \n",
       "2    August 11, 1996   Russia  "
      ]
     },
     "execution_count": 9,
     "metadata": {},
     "output_type": "execute_result"
    }
   ],
   "source": [
    "df"
   ]
  },
  {
   "cell_type": "code",
   "execution_count": 10,
   "id": "0ada5ec9-a52a-48fa-9f87-3be97569c9a2",
   "metadata": {},
   "outputs": [],
   "source": [
    "df.to_csv('CPJ_female_journalists_and_media_workers_missing.csv',index=False)"
   ]
  },
  {
   "cell_type": "code",
   "execution_count": null,
   "id": "61390662-8869-4eec-805c-20eb4bb047c4",
   "metadata": {},
   "outputs": [],
   "source": []
  }
 ],
 "metadata": {
  "kernelspec": {
   "display_name": "Python 3 (ipykernel)",
   "language": "python",
   "name": "python3"
  },
  "language_info": {
   "codemirror_mode": {
    "name": "ipython",
    "version": 3
   },
   "file_extension": ".py",
   "mimetype": "text/x-python",
   "name": "python",
   "nbconvert_exporter": "python",
   "pygments_lexer": "ipython3",
   "version": "3.12.0"
  }
 },
 "nbformat": 4,
 "nbformat_minor": 5
}
