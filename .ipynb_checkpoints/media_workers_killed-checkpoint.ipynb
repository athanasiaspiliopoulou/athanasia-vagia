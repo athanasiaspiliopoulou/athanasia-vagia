{
 "cells": [
  {
   "cell_type": "code",
   "execution_count": 1,
   "id": "899c0b2a-56b7-4beb-b152-4ca02f8e8ba5",
   "metadata": {},
   "outputs": [],
   "source": [
    "#imports\n",
    "import pandas as pd\n",
    "\n",
    "import requests\n",
    "from bs4 import BeautifulSoup\n",
    "from selenium import webdriver\n",
    "from selenium.webdriver.chrome.options import Options\n",
    "from selenium.webdriver.common.by import By\n",
    "from selenium.webdriver.support.ui import Select\n",
    "\n",
    "import time\n",
    "\n",
    "#set ups\n",
    "pd.set_option('display.max_rows', None)\n",
    "pd.set_option('display.max_columns', None)"
   ]
  },
  {
   "cell_type": "code",
   "execution_count": 2,
   "id": "255eb7d8-6c9f-45c4-9347-8f014d658741",
   "metadata": {},
   "outputs": [],
   "source": [
    "url = 'https://cpj.org/data/?status=Killed&start_year=1992&end_year=2023&group_by=year&motiveConfirmed%5B%5D=Confirmed&type%5B%5D=Media%20Worker'\n",
    "driver = webdriver.Chrome()\n",
    "driver.get(url)"
   ]
  },
  {
   "cell_type": "code",
   "execution_count": 6,
   "id": "cb6e1d2f-3bd1-4373-9b44-90e68a072dfe",
   "metadata": {},
   "outputs": [
    {
     "ename": "IndentationError",
     "evalue": "unexpected indent (3589563571.py, line 21)",
     "output_type": "error",
     "traceback": [
      "\u001b[1;36m  Cell \u001b[1;32mIn[6], line 21\u001b[1;36m\u001b[0m\n\u001b[1;33m    for n in numbers:\u001b[0m\n\u001b[1;37m    ^\u001b[0m\n\u001b[1;31mIndentationError\u001b[0m\u001b[1;31m:\u001b[0m unexpected indent\n"
     ]
    }
   ],
   "source": [
    "#create a list of numbers from 1 to 20\n",
    "numbers = list(range(1,21))\n",
    "\n",
    "#create an initially empty list\n",
    "mydata = []\n",
    "\n",
    "page_numbers = driver.find_elements(By.CLASS_NAME, 'page-item')\n",
    "\n",
    "last_table_page = int(page_numbers[-3].text)\n",
    "\n",
    "active_page = int(driver.find_element(By.CSS_SELECTOR, \"li.page-item.active\").text)\n",
    "    \n",
    "while active_page < last_table_page:\n",
    "    #find your last page\n",
    "    driver.find_element(By.LINK_TEXT, 'Last').click()\n",
    "\n",
    "    #click on the First page to go back\n",
    "    driver.find_element(By.LINK_TEXT, 'First').click()\n",
    "    print(f\"Page: {active_page}\")\n",
    "    \n",
    "        for n in numbers:\n",
    "            data = {}\n",
    "\n",
    "            name = driver.find_element(By.XPATH, f'/html/body/div[1]/div/div[2]/div[2]/table/tbody/tr[{n}]/td[1]/a').text\n",
    "            \n",
    "            organization = driver.find_element(By.XPATH, f'/html/body/div[1]/div/div[2]/div[2]/table/tbody/tr[{n}]/td[2]').text\n",
    "                                       \n",
    "            date = driver.find_element(By.XPATH, f'/html/body/div[1]/div/div[2]/div[2]/table/tbody/tr[{n}]/td[3]').text\n",
    "            \n",
    "            location = driver.find_element(By.XPATH, f'/html/body/div[1]/div/div[2]/div[2]/table/tbody/tr[{n}]/td[4]').text\n",
    "            \n",
    "            \n",
    "            data['name'] = name\n",
    "            data['organization'] = organization\n",
    "            data['date'] = date\n",
    "            data['location'] = location\n",
    "            \n",
    "            #check them out by printing them\n",
    "            print(name, organization, date, location)\n",
    "            \n",
    "            #append your initially empty list\n",
    "            mydata.append(data)\n",
    "            \n",
    "        #find the \"Next\" button in your page\n",
    "        button = driver.find_element(By.LINK_TEXT, \"Next\")  \n",
    "        #click \"Next\"\n",
    "        button.click()\n",
    "        \n",
    "        #redefine your active page\n",
    "        active_page += 1\n",
    "        \n",
    "        #make your driver sleep for 5'' before it goes on\n",
    "        time.sleep(5)\n",
    "            \n",
    "    else:\n",
    "        print(f'Your currently active page is page number {active_page}. This should be the last page. I am getting the data and then I am done.')\n",
    "        \n",
    "        #get the data, store them, append your mydata list and that's it\n",
    "        for n in numbers:\n",
    "            \n",
    "            data = {}\n",
    "            \n",
    "            #use try-except to avoid errors, especially when in your last page\n",
    "            #because then most possible scenario is that your script will not find 20 names...\n",
    "            try:\n",
    "                name = driver.find_element(By.XPATH, f'/html/body/div[1]/div/div[2]/div[2]/table/tbody/tr[{n}]/td[1]/a').text\n",
    "            \n",
    "                data['name'] = name\n",
    "                data['organization'] = organization\n",
    "                data['date'] = date\n",
    "                data['location'] = location\n",
    "\n",
    "                print(name, organization, date, location)\n",
    "                \n",
    "            except:\n",
    "                #if you fail finding data, just continue instead of breaking (throwing errors)\n",
    "                continue\n",
    "            \n",
    "            mydata.append(data)"
   ]
  },
  {
   "cell_type": "code",
   "execution_count": null,
   "id": "11cde75f-9ffc-4259-992c-d1e786ce7369",
   "metadata": {},
   "outputs": [],
   "source": []
  }
 ],
 "metadata": {
  "kernelspec": {
   "display_name": "Python 3 (ipykernel)",
   "language": "python",
   "name": "python3"
  },
  "language_info": {
   "codemirror_mode": {
    "name": "ipython",
    "version": 3
   },
   "file_extension": ".py",
   "mimetype": "text/x-python",
   "name": "python",
   "nbconvert_exporter": "python",
   "pygments_lexer": "ipython3",
   "version": "3.12.0"
  }
 },
 "nbformat": 4,
 "nbformat_minor": 5
}
