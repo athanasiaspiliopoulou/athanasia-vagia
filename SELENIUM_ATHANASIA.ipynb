{
 "cells": [
  {
   "cell_type": "code",
   "execution_count": 1,
   "id": "a6524ffb-2876-49ad-9ee5-6465d281f1bf",
   "metadata": {},
   "outputs": [],
   "source": [
    "import pandas as pd\n",
    "\n",
    "import requests\n",
    "from bs4 import BeautifulSoup\n",
    "\n",
    "from selenium import webdriver\n",
    "from selenium.webdriver.chrome.options import Options\n",
    "from selenium.webdriver.common.by import By\n",
    "import time\n",
    "\n",
    "pd.set_option('display.max_rows', None)\n",
    "pd.set_option('display.max_columns', None)"
   ]
  },
  {
   "cell_type": "code",
   "execution_count": 2,
   "id": "9febdddd-2277-468a-b648-30abb5c4890e",
   "metadata": {},
   "outputs": [],
   "source": [
    "driver = webdriver.Chrome()"
   ]
  },
  {
   "cell_type": "code",
   "execution_count": 3,
   "id": "23567ab8-25e6-4ce9-80c5-2e5cc05e34c0",
   "metadata": {},
   "outputs": [],
   "source": [
    "url = 'https://cpj.org/data/killed/?status=Killed&motiveConfirmed%5B%5D=Confirmed&motiveUnconfirmed%5B%5D=Unconfirmed&type%5B%5D=Journalist&start_year=2012&end_year=2022&group_by=year'"
   ]
  },
  {
   "cell_type": "code",
   "execution_count": 4,
   "id": "23cad4ad-3535-4492-8744-f1295d724d5d",
   "metadata": {},
   "outputs": [],
   "source": [
    "driver.get(url)"
   ]
  },
  {
   "cell_type": "code",
   "execution_count": 11,
   "id": "9e659a09-a57d-416c-8b46-f91cd5362613",
   "metadata": {},
   "outputs": [],
   "source": [
    "button = driver.find_element(By.LINK_TEXT, \"Next\")\n",
    "button.click()"
   ]
  },
  {
   "cell_type": "code",
   "execution_count": 9,
   "id": "f4ba31bc-bf16-4527-965e-df91a7668277",
   "metadata": {},
   "outputs": [],
   "source": [
    "button.click()"
   ]
  },
  {
   "cell_type": "code",
   "execution_count": 19,
   "id": "948a7644-34bf-4eec-b846-e50603e16f44",
   "metadata": {},
   "outputs": [],
   "source": [
    "numbers = list(range(1,21))"
   ]
  },
  {
   "cell_type": "code",
   "execution_count": 21,
   "id": "464aea14-6b43-46dc-9957-0fb3919a3dd5",
   "metadata": {},
   "outputs": [
    {
     "name": "stdout",
     "output_type": "stream",
     "text": [
      "Youssef al-Ayzari\n",
      "Youssef Younis\n",
      "Yusuf Ahmed Abukar\n",
      "Yusuf Ahmed Deeb\n",
      "Yves Debay\n",
      "Zabihullah Tamanna\n",
      "Zachary “ZackTV” Stoner\n",
      "Zaher al-Shurqat\n",
      "Zaher Mtawe'e\n",
      "Zakaria Ibrahim\n",
      "Zakariye Mohamed Mohamud Moallim\n",
      "Zaki al-Saqladi\n",
      "Zaman Mehsud\n",
      "Zeeshan Butt\n",
      "Zenu Koboi Miller\n",
      "Ziad al-Sharabi\n",
      "Zoreslav Zamoysky\n",
      "Zubair Hatami\n"
     ]
    },
    {
     "ename": "NoSuchElementException",
     "evalue": "Message: no such element: Unable to locate element: {\"method\":\"xpath\",\"selector\":\"/html/body/div[1]/div/div/div[2]/div/div[1]/div/table/tbody/tr[19]/td[1]\"}\n  (Session info: chrome=119.0.6045.200); For documentation on this error, please visit: https://www.selenium.dev/documentation/webdriver/troubleshooting/errors#no-such-element-exception\nStacktrace:\n\tGetHandleVerifier [0x00007FF6DBA382B2+55298]\n\t(No symbol) [0x00007FF6DB9A5E02]\n\t(No symbol) [0x00007FF6DB8605AB]\n\t(No symbol) [0x00007FF6DB8A175C]\n\t(No symbol) [0x00007FF6DB8A18DC]\n\t(No symbol) [0x00007FF6DB8DCBC7]\n\t(No symbol) [0x00007FF6DB8C20EF]\n\t(No symbol) [0x00007FF6DB8DAAA4]\n\t(No symbol) [0x00007FF6DB8C1E83]\n\t(No symbol) [0x00007FF6DB89670A]\n\t(No symbol) [0x00007FF6DB897964]\n\tGetHandleVerifier [0x00007FF6DBDB0AAB+3694587]\n\tGetHandleVerifier [0x00007FF6DBE0728E+4048862]\n\tGetHandleVerifier [0x00007FF6DBDFF173+4015811]\n\tGetHandleVerifier [0x00007FF6DBAD47D6+695590]\n\t(No symbol) [0x00007FF6DB9B0CE8]\n\t(No symbol) [0x00007FF6DB9ACF34]\n\t(No symbol) [0x00007FF6DB9AD062]\n\t(No symbol) [0x00007FF6DB99D3A3]\n\tBaseThreadInitThunk [0x00007FF8F67B257D+29]\n\tRtlUserThreadStart [0x00007FF8F842AA58+40]\n",
     "output_type": "error",
     "traceback": [
      "\u001b[1;31m---------------------------------------------------------------------------\u001b[0m",
      "\u001b[1;31mNoSuchElementException\u001b[0m                    Traceback (most recent call last)",
      "Cell \u001b[1;32mIn[21], line 3\u001b[0m\n\u001b[0;32m      1\u001b[0m \u001b[38;5;28;01mfor\u001b[39;00m n \u001b[38;5;129;01min\u001b[39;00m numbers:\n\u001b[0;32m      2\u001b[0m     name_xpath \u001b[38;5;241m=\u001b[39m \u001b[38;5;124mf\u001b[39m\u001b[38;5;124m\"\u001b[39m\u001b[38;5;124m/html/body/div[1]/div/div/div[2]/div/div[1]/div/table/tbody/tr[\u001b[39m\u001b[38;5;132;01m{\u001b[39;00mn\u001b[38;5;132;01m}\u001b[39;00m\u001b[38;5;124m]/td[1]\u001b[39m\u001b[38;5;124m\"\u001b[39m\n\u001b[1;32m----> 3\u001b[0m     name \u001b[38;5;241m=\u001b[39m \u001b[43mdriver\u001b[49m\u001b[38;5;241;43m.\u001b[39;49m\u001b[43mfind_element\u001b[49m\u001b[43m(\u001b[49m\u001b[43mBy\u001b[49m\u001b[38;5;241;43m.\u001b[39;49m\u001b[43mXPATH\u001b[49m\u001b[43m,\u001b[49m\u001b[43m \u001b[49m\u001b[43mname_xpath\u001b[49m\u001b[43m)\u001b[49m\n\u001b[0;32m      4\u001b[0m     \u001b[38;5;28mprint\u001b[39m(name\u001b[38;5;241m.\u001b[39mtext)\n",
      "File \u001b[1;32m~\\AppData\\Local\\Programs\\Python\\Python312\\Lib\\site-packages\\selenium\\webdriver\\remote\\webdriver.py:741\u001b[0m, in \u001b[0;36mWebDriver.find_element\u001b[1;34m(self, by, value)\u001b[0m\n\u001b[0;32m    738\u001b[0m     by \u001b[38;5;241m=\u001b[39m By\u001b[38;5;241m.\u001b[39mCSS_SELECTOR\n\u001b[0;32m    739\u001b[0m     value \u001b[38;5;241m=\u001b[39m \u001b[38;5;124mf\u001b[39m\u001b[38;5;124m'\u001b[39m\u001b[38;5;124m[name=\u001b[39m\u001b[38;5;124m\"\u001b[39m\u001b[38;5;132;01m{\u001b[39;00mvalue\u001b[38;5;132;01m}\u001b[39;00m\u001b[38;5;124m\"\u001b[39m\u001b[38;5;124m]\u001b[39m\u001b[38;5;124m'\u001b[39m\n\u001b[1;32m--> 741\u001b[0m \u001b[38;5;28;01mreturn\u001b[39;00m \u001b[38;5;28;43mself\u001b[39;49m\u001b[38;5;241;43m.\u001b[39;49m\u001b[43mexecute\u001b[49m\u001b[43m(\u001b[49m\u001b[43mCommand\u001b[49m\u001b[38;5;241;43m.\u001b[39;49m\u001b[43mFIND_ELEMENT\u001b[49m\u001b[43m,\u001b[49m\u001b[43m \u001b[49m\u001b[43m{\u001b[49m\u001b[38;5;124;43m\"\u001b[39;49m\u001b[38;5;124;43musing\u001b[39;49m\u001b[38;5;124;43m\"\u001b[39;49m\u001b[43m:\u001b[49m\u001b[43m \u001b[49m\u001b[43mby\u001b[49m\u001b[43m,\u001b[49m\u001b[43m \u001b[49m\u001b[38;5;124;43m\"\u001b[39;49m\u001b[38;5;124;43mvalue\u001b[39;49m\u001b[38;5;124;43m\"\u001b[39;49m\u001b[43m:\u001b[49m\u001b[43m \u001b[49m\u001b[43mvalue\u001b[49m\u001b[43m}\u001b[49m\u001b[43m)\u001b[49m[\u001b[38;5;124m\"\u001b[39m\u001b[38;5;124mvalue\u001b[39m\u001b[38;5;124m\"\u001b[39m]\n",
      "File \u001b[1;32m~\\AppData\\Local\\Programs\\Python\\Python312\\Lib\\site-packages\\selenium\\webdriver\\remote\\webdriver.py:347\u001b[0m, in \u001b[0;36mWebDriver.execute\u001b[1;34m(self, driver_command, params)\u001b[0m\n\u001b[0;32m    345\u001b[0m response \u001b[38;5;241m=\u001b[39m \u001b[38;5;28mself\u001b[39m\u001b[38;5;241m.\u001b[39mcommand_executor\u001b[38;5;241m.\u001b[39mexecute(driver_command, params)\n\u001b[0;32m    346\u001b[0m \u001b[38;5;28;01mif\u001b[39;00m response:\n\u001b[1;32m--> 347\u001b[0m     \u001b[38;5;28;43mself\u001b[39;49m\u001b[38;5;241;43m.\u001b[39;49m\u001b[43merror_handler\u001b[49m\u001b[38;5;241;43m.\u001b[39;49m\u001b[43mcheck_response\u001b[49m\u001b[43m(\u001b[49m\u001b[43mresponse\u001b[49m\u001b[43m)\u001b[49m\n\u001b[0;32m    348\u001b[0m     response[\u001b[38;5;124m\"\u001b[39m\u001b[38;5;124mvalue\u001b[39m\u001b[38;5;124m\"\u001b[39m] \u001b[38;5;241m=\u001b[39m \u001b[38;5;28mself\u001b[39m\u001b[38;5;241m.\u001b[39m_unwrap_value(response\u001b[38;5;241m.\u001b[39mget(\u001b[38;5;124m\"\u001b[39m\u001b[38;5;124mvalue\u001b[39m\u001b[38;5;124m\"\u001b[39m, \u001b[38;5;28;01mNone\u001b[39;00m))\n\u001b[0;32m    349\u001b[0m     \u001b[38;5;28;01mreturn\u001b[39;00m response\n",
      "File \u001b[1;32m~\\AppData\\Local\\Programs\\Python\\Python312\\Lib\\site-packages\\selenium\\webdriver\\remote\\errorhandler.py:229\u001b[0m, in \u001b[0;36mErrorHandler.check_response\u001b[1;34m(self, response)\u001b[0m\n\u001b[0;32m    227\u001b[0m         alert_text \u001b[38;5;241m=\u001b[39m value[\u001b[38;5;124m\"\u001b[39m\u001b[38;5;124malert\u001b[39m\u001b[38;5;124m\"\u001b[39m]\u001b[38;5;241m.\u001b[39mget(\u001b[38;5;124m\"\u001b[39m\u001b[38;5;124mtext\u001b[39m\u001b[38;5;124m\"\u001b[39m)\n\u001b[0;32m    228\u001b[0m     \u001b[38;5;28;01mraise\u001b[39;00m exception_class(message, screen, stacktrace, alert_text)  \u001b[38;5;66;03m# type: ignore[call-arg]  # mypy is not smart enough here\u001b[39;00m\n\u001b[1;32m--> 229\u001b[0m \u001b[38;5;28;01mraise\u001b[39;00m exception_class(message, screen, stacktrace)\n",
      "\u001b[1;31mNoSuchElementException\u001b[0m: Message: no such element: Unable to locate element: {\"method\":\"xpath\",\"selector\":\"/html/body/div[1]/div/div/div[2]/div/div[1]/div/table/tbody/tr[19]/td[1]\"}\n  (Session info: chrome=119.0.6045.200); For documentation on this error, please visit: https://www.selenium.dev/documentation/webdriver/troubleshooting/errors#no-such-element-exception\nStacktrace:\n\tGetHandleVerifier [0x00007FF6DBA382B2+55298]\n\t(No symbol) [0x00007FF6DB9A5E02]\n\t(No symbol) [0x00007FF6DB8605AB]\n\t(No symbol) [0x00007FF6DB8A175C]\n\t(No symbol) [0x00007FF6DB8A18DC]\n\t(No symbol) [0x00007FF6DB8DCBC7]\n\t(No symbol) [0x00007FF6DB8C20EF]\n\t(No symbol) [0x00007FF6DB8DAAA4]\n\t(No symbol) [0x00007FF6DB8C1E83]\n\t(No symbol) [0x00007FF6DB89670A]\n\t(No symbol) [0x00007FF6DB897964]\n\tGetHandleVerifier [0x00007FF6DBDB0AAB+3694587]\n\tGetHandleVerifier [0x00007FF6DBE0728E+4048862]\n\tGetHandleVerifier [0x00007FF6DBDFF173+4015811]\n\tGetHandleVerifier [0x00007FF6DBAD47D6+695590]\n\t(No symbol) [0x00007FF6DB9B0CE8]\n\t(No symbol) [0x00007FF6DB9ACF34]\n\t(No symbol) [0x00007FF6DB9AD062]\n\t(No symbol) [0x00007FF6DB99D3A3]\n\tBaseThreadInitThunk [0x00007FF8F67B257D+29]\n\tRtlUserThreadStart [0x00007FF8F842AA58+40]\n"
     ]
    }
   ],
   "source": [
    "for n in numbers:\n",
    "    name_xpath = f\"/html/body/div[1]/div/div/div[2]/div/div[1]/div/table/tbody/tr[{n}]/td[1]\"\n",
    "    name = driver.find_element(By.XPATH, name_xpath)\n",
    "    print(name.text)"
   ]
  },
  {
   "cell_type": "code",
   "execution_count": null,
   "id": "1b37adb5-fa61-42d4-bf11-61e341f86551",
   "metadata": {},
   "outputs": [],
   "source": []
  },
  {
   "cell_type": "code",
   "execution_count": null,
   "id": "d8f2abd2-d1ac-45c6-a3b0-1d322256aecf",
   "metadata": {},
   "outputs": [],
   "source": []
  },
  {
   "cell_type": "code",
   "execution_count": 17,
   "id": "17ee82af-77bc-45cf-8165-288351732a4c",
   "metadata": {},
   "outputs": [],
   "source": [
    "name_xpath = '/html/body/div[1]/div/div/div[2]/div/div[1]/div/table/tbody/tr[3]/td[1]'"
   ]
  },
  {
   "cell_type": "code",
   "execution_count": 18,
   "id": "a4eda2d3-92ef-44f3-80f6-555f31145e75",
   "metadata": {},
   "outputs": [
    {
     "name": "stdout",
     "output_type": "stream",
     "text": [
      "Yusuf Ahmed Abukar\n"
     ]
    }
   ],
   "source": [
    "name = driver.find_element(By.XPATH, name_xpath)\n",
    "\n",
    "print(name.text)"
   ]
  },
  {
   "cell_type": "code",
   "execution_count": null,
   "id": "834ff3ad-9341-45a8-b351-d01fb8b8b761",
   "metadata": {},
   "outputs": [],
   "source": []
  }
 ],
 "metadata": {
  "kernelspec": {
   "display_name": "Python 3 (ipykernel)",
   "language": "python",
   "name": "python3"
  },
  "language_info": {
   "codemirror_mode": {
    "name": "ipython",
    "version": 3
   },
   "file_extension": ".py",
   "mimetype": "text/x-python",
   "name": "python",
   "nbconvert_exporter": "python",
   "pygments_lexer": "ipython3",
   "version": "3.12.0"
  }
 },
 "nbformat": 4,
 "nbformat_minor": 5
}
