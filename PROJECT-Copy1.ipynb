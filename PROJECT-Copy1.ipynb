{
 "cells": [
  {
   "cell_type": "code",
   "execution_count": 8,
   "id": "ade1971e-4843-430d-8170-e300cdd40f43",
   "metadata": {},
   "outputs": [],
   "source": [
    "import pandas as pd\n",
    "\n",
    "import requests\n",
    "from bs4 import BeautifulSoup\n",
    "from selenium import webdriver\n",
    "from selenium.webdriver.chrome.options import Options\n",
    "from selenium.webdriver.common.by import By\n",
    "import time\n",
    "\n",
    "pd.set_option('display.max_rows', None)\n",
    "pd.set_option('display.max_columns', None)"
   ]
  },
  {
   "cell_type": "code",
   "execution_count": 2,
   "id": "22fa67e2-516f-4faa-8a74-008d1de32bb7",
   "metadata": {},
   "outputs": [],
   "source": [
    "url = 'https://cpj.org/data/killed/?status=Killed&motiveConfirmed%5B%5D=Confirmed&motiveUnconfirmed%5B%5D=Unconfirmed&type%5B%5D=Journalist&start_year=2012&end_year=2022&group_by=year'"
   ]
  },
  {
   "cell_type": "code",
   "execution_count": 7,
   "id": "b19ca85c-63d5-4e89-a2f2-9e0415fd5e9e",
   "metadata": {},
   "outputs": [],
   "source": [
    "url = 'https://cpj.org/data/killed/?status=Killed&motiveConfirmed%5B%5D=Confirmed&motiveUnconfirmed%5B%5D=Unconfirmed&type%5B%5D=Journalist&start_year=2012&end_year=2022&group_by=year'\n",
    "driver.get(url)"
   ]
  },
  {
   "cell_type": "code",
   "execution_count": 12,
   "id": "68c4b6de-d747-4e54-95d7-ae093e33555b",
   "metadata": {},
   "outputs": [
    {
     "name": "stdout",
     "output_type": "stream",
     "text": [
      "First\n",
      "Previous\n",
      "1\n",
      "2\n",
      "3\n",
      "4\n",
      "5\n",
      "Next\n",
      "Last\n"
     ]
    }
   ],
   "source": [
    "test = driver.find_elements(By.CLASS_NAME,\"page-link\")\n",
    "\n",
    "for t in test:\n",
    "    print(t.text)"
   ]
  },
  {
   "cell_type": "code",
   "execution_count": 17,
   "id": "66697bd2-13d4-49a7-84a0-a202ef67aa0a",
   "metadata": {},
   "outputs": [],
   "source": [
    "button = driver.find_element(By.LINK_TEXT, \"Next\")\n",
    "button.click()"
   ]
  },
  {
   "cell_type": "code",
   "execution_count": 22,
   "id": "eed7dd7e-477e-4710-a542-b8b2c8df0729",
   "metadata": {},
   "outputs": [
    {
     "name": "stdout",
     "output_type": "stream",
     "text": [
      "First\n",
      "Previous\n",
      "35\n",
      "36\n",
      "37\n",
      "38\n",
      "39\n",
      "Next\n",
      "Last\n"
     ]
    }
   ],
   "source": [
    "page_numbers = driver.find_elements(By.CLASS_NAME, 'page-item')\n",
    "\n",
    "for page_number in page_numbers:\n",
    "    print(page_number.text)"
   ]
  },
  {
   "cell_type": "code",
   "execution_count": 26,
   "id": "47520f6b-d910-4597-bf00-f593ee3137c2",
   "metadata": {},
   "outputs": [
    {
     "data": {
      "text/plain": [
       "39"
      ]
     },
     "execution_count": 26,
     "metadata": {},
     "output_type": "execute_result"
    }
   ],
   "source": [
    "int(page_numbers[-3].text)"
   ]
  },
  {
   "cell_type": "code",
   "execution_count": 27,
   "id": "a82139e1-d993-45a7-91ef-ea14feb0e3d2",
   "metadata": {},
   "outputs": [
    {
     "data": {
      "text/plain": [
       "39"
      ]
     },
     "execution_count": 27,
     "metadata": {},
     "output_type": "execute_result"
    }
   ],
   "source": [
    "last_number = int(page_numbers[-3].text)\n",
    "last_number"
   ]
  },
  {
   "cell_type": "code",
   "execution_count": 36,
   "id": "395c561d-dac9-4f4a-8dbd-530ed5fdcf07",
   "metadata": {},
   "outputs": [],
   "source": [
    "driver = webdriver.Chrome()"
   ]
  },
  {
   "cell_type": "code",
   "execution_count": 37,
   "id": "377c797d-9bc6-4c56-9c04-d2eb7eab7094",
   "metadata": {},
   "outputs": [],
   "source": [
    "url = 'https://cpj.org/data/killed/?status=Killed&motiveConfirmed%5B%5D=Confirmed&motiveUnconfirmed%5B%5D=Unconfirmed&type%5B%5D=Journalist&start_year=2012&end_year=2022&group_by=year'\n",
    "driver.get(url)"
   ]
  },
  {
   "cell_type": "code",
   "execution_count": 38,
   "id": "de63d530-8181-4fd3-a876-4096e80bfa67",
   "metadata": {},
   "outputs": [
    {
     "name": "stdout",
     "output_type": "stream",
     "text": [
      "0\n",
      "5\n",
      "5\n",
      "6\n",
      "7\n",
      "8\n",
      "9\n",
      "10\n",
      "11\n",
      "12\n",
      "13\n",
      "14\n",
      "15\n",
      "16\n",
      "17\n",
      "18\n",
      "19\n",
      "20\n",
      "21\n",
      "22\n",
      "23\n",
      "24\n",
      "25\n",
      "26\n",
      "27\n",
      "28\n",
      "29\n",
      "30\n",
      "31\n",
      "32\n",
      "33\n",
      "34\n",
      "35\n",
      "36\n",
      "37\n",
      "38\n",
      "39\n",
      "40\n",
      "last page\n"
     ]
    }
   ],
   "source": [
    "last_number = 0\n",
    "\n",
    "while last_number < 41:\n",
    "    print(last_number)\n",
    "    button = driver.find_element(By.LINK_TEXT, \"Next\")\n",
    "    button.click()\n",
    "    time.sleep(5)\n",
    "\n",
    "    page_numbers = driver.find_elements(By.CLASS_NAME, 'page-item')\n",
    "    last_number = int(page_numbers[-3].text)\n",
    "else:\n",
    "    print(\"last page\")"
   ]
  },
  {
   "cell_type": "code",
   "execution_count": 44,
   "id": "a7cecd4a-cd66-4009-bde6-c45b43000c4c",
   "metadata": {},
   "outputs": [
    {
     "name": "stdout",
     "output_type": "stream",
     "text": [
      "0\n",
      "1\n",
      "2\n",
      "3\n",
      "4\n",
      "5\n",
      "6\n",
      "7\n",
      "8\n",
      "9\n",
      "10\n",
      "11\n",
      "12\n",
      "13\n",
      "14\n",
      "15\n",
      "16\n",
      "17\n",
      "18\n",
      "19\n"
     ]
    }
   ],
   "source": [
    "numbers = list(range(0, 20))\n",
    "\n",
    "for n in numbers:\n",
    "    print(n)"
   ]
  },
  {
   "cell_type": "code",
   "execution_count": null,
   "id": "3d0ad524-8e8b-4ede-b4b8-acd4a5b3c76c",
   "metadata": {},
   "outputs": [],
   "source": [
    "/html/body/div[1]/div/div/div[2]/div/div[1]/div/table/tbody/tr[1]/td[1]/a"
   ]
  },
  {
   "cell_type": "code",
   "execution_count": null,
   "id": "6b396833-6237-40c5-b83c-598b3347f2bc",
   "metadata": {},
   "outputs": [],
   "source": [
    "/html/body/div[1]/div/div/div[2]/div/div[1]/div/table/tbody/tr[1]/td[2]"
   ]
  },
  {
   "cell_type": "code",
   "execution_count": 56,
   "id": "b5449e68-5ff5-4a18-a630-e483aed1f192",
   "metadata": {},
   "outputs": [
    {
     "name": "stdout",
     "output_type": "stream",
     "text": [
      "Abadullah Hananzai\n",
      "Abd al-Karim al-Ezzo\n",
      "Abdel Aziz Mahmoud Hasoun\n",
      "Abdel Karim al-Khaiwani\n",
      "Abdel Karim al-Oqda\n",
      "Abdel Karim Nazir Ismail\n",
      "Abdelqadir Fassouk\n",
      "Abdiaziz Ali\n",
      "Abdiaziz Mohamud Guled\n",
      "Abdihared Osman Aden\n",
      "Abdinasir Abdulle Ga’al\n",
      "Abdirahman Mohamed\n",
      "Abdirahman Yasin Ali\n",
      "Abdirisak Said Osman\n",
      "Abdirizak Ali Abdi\n",
      "Abdirizak Kasim Iman\n",
      "Abdisatar Daher Sabriye\n",
      "Abdiwali Ali Hassan\n",
      "Abdul Hakim Shimul\n",
      "Abdul Hameed al-Yousef\n"
     ]
    }
   ],
   "source": [
    "numbers = list(range(1, 21))\n",
    "\n",
    "mydata = []\n",
    "\n",
    "for n in numbers:\n",
    "    data = {}\n",
    "    \n",
    "    name_xpath = f\"/html/body/div[1]/div/div/div[2]/div/div[1]/div/table/tbody/tr[{n}]/td[1]/a\"\n",
    "    name = driver.find_element(By.XPATH, name_xpath)\n",
    "\n",
    "    data['name'] = name.text\n",
    "    print(name.text)\n",
    "\n",
    "    mydata.append(data)\n",
    "\n",
    "# /html/body/div[1]/div/div/div[2]/div/div[1]/div/table/tbody/tr[1]/td[1]/a\n",
    "# /html/body/div[1]/div/div/div[2]/div/div[1]/div/table/tbody/tr[20]/td[1]/a"
   ]
  },
  {
   "cell_type": "code",
   "execution_count": 53,
   "id": "8db5d0d4-52e5-493c-8b6b-f07121556aa3",
   "metadata": {},
   "outputs": [],
   "source": [
    "df = pd.DataFrame(mydata)"
   ]
  },
  {
   "cell_type": "code",
   "execution_count": 54,
   "id": "57c4c47c-4718-43db-b7a9-c70f241e060e",
   "metadata": {},
   "outputs": [
    {
     "data": {
      "text/html": [
       "<div>\n",
       "<style scoped>\n",
       "    .dataframe tbody tr th:only-of-type {\n",
       "        vertical-align: middle;\n",
       "    }\n",
       "\n",
       "    .dataframe tbody tr th {\n",
       "        vertical-align: top;\n",
       "    }\n",
       "\n",
       "    .dataframe thead th {\n",
       "        text-align: right;\n",
       "    }\n",
       "</style>\n",
       "<table border=\"1\" class=\"dataframe\">\n",
       "  <thead>\n",
       "    <tr style=\"text-align: right;\">\n",
       "      <th></th>\n",
       "      <th>name</th>\n",
       "    </tr>\n",
       "  </thead>\n",
       "  <tbody>\n",
       "    <tr>\n",
       "      <th>0</th>\n",
       "      <td>Ueliton Bayer Brizon</td>\n",
       "    </tr>\n",
       "    <tr>\n",
       "      <th>1</th>\n",
       "      <td>Vadym Komarov</td>\n",
       "    </tr>\n",
       "    <tr>\n",
       "      <th>2</th>\n",
       "      <td>Valério Luiz de Oliveira</td>\n",
       "    </tr>\n",
       "    <tr>\n",
       "      <th>3</th>\n",
       "      <td>Vedat Erdemci</td>\n",
       "    </tr>\n",
       "    <tr>\n",
       "      <th>4</th>\n",
       "      <td>Vergel Bico</td>\n",
       "    </tr>\n",
       "    <tr>\n",
       "      <th>5</th>\n",
       "      <td>Veronique Robert</td>\n",
       "    </tr>\n",
       "    <tr>\n",
       "      <th>6</th>\n",
       "      <td>Víctor Manuel Báez Chino</td>\n",
       "    </tr>\n",
       "    <tr>\n",
       "      <th>7</th>\n",
       "      <td>Víctor Yobani Fúnez Solís</td>\n",
       "    </tr>\n",
       "    <tr>\n",
       "      <th>8</th>\n",
       "      <td>Viktor Dedov</td>\n",
       "    </tr>\n",
       "    <tr>\n",
       "      <th>9</th>\n",
       "      <td>Viktoria Marinova</td>\n",
       "    </tr>\n",
       "    <tr>\n",
       "      <th>10</th>\n",
       "      <td>Vira Hyrych</td>\n",
       "    </tr>\n",
       "    <tr>\n",
       "      <th>11</th>\n",
       "      <td>Virgilio Maganes</td>\n",
       "    </tr>\n",
       "    <tr>\n",
       "      <th>12</th>\n",
       "      <td>Vyacheslav Veremiy</td>\n",
       "    </tr>\n",
       "    <tr>\n",
       "      <th>13</th>\n",
       "      <td>Wadih Sa'ad al-Hamdani</td>\n",
       "    </tr>\n",
       "    <tr>\n",
       "      <th>14</th>\n",
       "      <td>Wael al-Absi</td>\n",
       "    </tr>\n",
       "    <tr>\n",
       "      <th>15</th>\n",
       "      <td>Wai Yen Heinn</td>\n",
       "    </tr>\n",
       "    <tr>\n",
       "      <th>16</th>\n",
       "      <td>Walgney Assis Carvalho</td>\n",
       "    </tr>\n",
       "    <tr>\n",
       "      <th>17</th>\n",
       "      <td>Walid Jamil Amira</td>\n",
       "    </tr>\n",
       "    <tr>\n",
       "      <th>18</th>\n",
       "      <td>Wasem Aledel</td>\n",
       "    </tr>\n",
       "    <tr>\n",
       "      <th>19</th>\n",
       "      <td>Washiqur Rahman Babu</td>\n",
       "    </tr>\n",
       "  </tbody>\n",
       "</table>\n",
       "</div>"
      ],
      "text/plain": [
       "                         name\n",
       "0        Ueliton Bayer Brizon\n",
       "1               Vadym Komarov\n",
       "2    Valério Luiz de Oliveira\n",
       "3               Vedat Erdemci\n",
       "4                 Vergel Bico\n",
       "5            Veronique Robert\n",
       "6    Víctor Manuel Báez Chino\n",
       "7   Víctor Yobani Fúnez Solís\n",
       "8                Viktor Dedov\n",
       "9           Viktoria Marinova\n",
       "10                Vira Hyrych\n",
       "11           Virgilio Maganes\n",
       "12         Vyacheslav Veremiy\n",
       "13     Wadih Sa'ad al-Hamdani\n",
       "14               Wael al-Absi\n",
       "15              Wai Yen Heinn\n",
       "16     Walgney Assis Carvalho\n",
       "17          Walid Jamil Amira\n",
       "18               Wasem Aledel\n",
       "19       Washiqur Rahman Babu"
      ]
     },
     "execution_count": 54,
     "metadata": {},
     "output_type": "execute_result"
    }
   ],
   "source": [
    "df"
   ]
  },
  {
   "cell_type": "code",
   "execution_count": 42,
   "id": "3a8ee07b-ced2-46ae-96da-098fcda49809",
   "metadata": {},
   "outputs": [
    {
     "name": "stdout",
     "output_type": "stream",
     "text": [
      "Vadym Komarov\n"
     ]
    }
   ],
   "source": [
    "names = driver.find_elements(By.XPATH, '/html/body/div[1]/div/div/div[2]/div/div[1]/div/table/tbody/tr[2]/td[1]/a')\n",
    "\n",
    "for n in names:\n",
    "    print(n.text)"
   ]
  }
 ],
 "metadata": {
  "kernelspec": {
   "display_name": "Python 3 (ipykernel)",
   "language": "python",
   "name": "python3"
  },
  "language_info": {
   "codemirror_mode": {
    "name": "ipython",
    "version": 3
   },
   "file_extension": ".py",
   "mimetype": "text/x-python",
   "name": "python",
   "nbconvert_exporter": "python",
   "pygments_lexer": "ipython3",
   "version": "3.12.0"
  }
 },
 "nbformat": 4,
 "nbformat_minor": 5
}
